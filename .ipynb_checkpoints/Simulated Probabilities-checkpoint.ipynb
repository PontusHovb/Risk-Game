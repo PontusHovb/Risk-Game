{
 "cells": [
  {
   "cell_type": "markdown",
   "id": "61bfde34",
   "metadata": {},
   "source": [
    "# Simulated Probabilitties"
   ]
  },
  {
   "cell_type": "markdown",
   "id": "b1766646",
   "metadata": {},
   "source": [
    "For attacks with many troops the number of cases become very large which make casework counting impossible. Instead the probabilities are estimated using Monte-Carlo Simulation. "
   ]
  },
  {
   "cell_type": "code",
   "execution_count": 2,
   "id": "6b4fa3ec",
   "metadata": {},
   "outputs": [],
   "source": [
    "import SimulatedAttack"
   ]
  },
  {
   "cell_type": "code",
   "execution_count": 30,
   "id": "8cbbcc76",
   "metadata": {},
   "outputs": [
    {
     "name": "stdout",
     "output_type": "stream",
     "text": [
      "0\n"
     ]
    }
   ],
   "source": [
    "nsim = 10\n",
    "win = 0\n",
    "\n",
    "for n in range(0, nsim):\n",
    "    if(SimulatedAttack.simulated_attack(3, 2) == 'W'):\n",
    "        win += 1\n",
    "    \n",
    "print(win)"
   ]
  }
 ],
 "metadata": {
  "kernelspec": {
   "display_name": "Python 3 (ipykernel)",
   "language": "python",
   "name": "python3"
  },
  "language_info": {
   "codemirror_mode": {
    "name": "ipython",
    "version": 3
   },
   "file_extension": ".py",
   "mimetype": "text/x-python",
   "name": "python",
   "nbconvert_exporter": "python",
   "pygments_lexer": "ipython3",
   "version": "3.8.5"
  }
 },
 "nbformat": 4,
 "nbformat_minor": 5
}
