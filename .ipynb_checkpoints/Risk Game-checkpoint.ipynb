{
 "cells": [
  {
   "cell_type": "markdown",
   "id": "ec32b1c3",
   "metadata": {},
   "source": [
    "# Risk game"
   ]
  },
  {
   "cell_type": "markdown",
   "id": "7c8462bf",
   "metadata": {},
   "source": [
    "Risk is a board game where the goal is to use your troops to capture territories and eliminate other players. Territories are captured in a battle when an attacker chooses to invade a territory of another player. The battle is simulated with dices roles where the attacker can attack with a maximum of 3 dices and the defender can have a maximum of 2 dices to defend themselves. In a battle the highest rolled dices are matched and the rest are discarded. If the attacker have troops left after an \"attack\" (dice roll) they can choose to attack again until  the territory is captured (defender has no troops left) or the attacker has no more available troops."
   ]
  },
  {
   "cell_type": "markdown",
   "id": "5ac562e8",
   "metadata": {},
   "source": [
    "### Simple cases"
   ]
  },
  {
   "cell_type": "markdown",
   "id": "1e5f314d",
   "metadata": {},
   "source": [
    "#### 1 attacker, 1 defender"
   ]
  },
  {
   "cell_type": "markdown",
   "id": "aba17f08",
   "metadata": {},
   "source": [
    "With one attacker and one defender the probability of the attacker winning can be explicitly calculated. For a 6-sided equal probability dice there are 36 different combinations of throwing two dices, all with equal probability since the outcome of the two different dices are independent. We can calculate the probability of winning by considering all possible outcomes"
   ]
  },
  {
   "cell_type": "markdown",
   "id": "f5ba9071",
   "metadata": {},
   "source": [
    "\\begin{matrix}\n",
    "  & 1 & 2 & 3 & 4 & 5 & 6 \\\\\n",
    "1 & L & L & L & L & L & L \\\\\n",
    "2 & W & L & L & L & L & L \\\\\n",
    "3 & W & W & L & L & L & L \\\\\n",
    "4 & W & W & W & L & L & L \\\\\n",
    "5 & W & W & W & W & L & L \\\\\n",
    "6 & W & W & W & W & W & L \\\\\n",
    "\\end{matrix}"
   ]
  },
  {
   "cell_type": "markdown",
   "id": "2cd27782",
   "metadata": {},
   "source": [
    "The vertical axis is the dice rolled by attacker, and horisontal axis that of the defender. 'W' denotes the attacker winning and 'L' that the attacker looses."
   ]
  },
  {
   "cell_type": "markdown",
   "id": "1a02d7ff",
   "metadata": {},
   "source": [
    "$$\n",
    "P(W) = \\frac{\\text{Number of W}}{\\text{Number of combinations}} = \\frac{15}{36} \\approx 41.7\\%\n",
    "$$"
   ]
  },
  {
   "cell_type": "markdown",
   "id": "b134323a",
   "metadata": {},
   "source": [
    "#### 2 attacker, 1 defender"
   ]
  },
  {
   "cell_type": "markdown",
   "id": "bfa6c2d9",
   "metadata": {},
   "source": [
    "For two attacker and one defender we can still determine the probability by casework counting (list every single possible case). This is a bit more difficult to do by hand since there are $6^3$ different combinations. By iteratnig through all combinations and count number of wins we can calculate the probability."
   ]
  },
  {
   "cell_type": "code",
   "execution_count": 6,
   "id": "55d2a71a",
   "metadata": {},
   "outputs": [
    {
     "name": "stdout",
     "output_type": "stream",
     "text": [
      "Probability of winning 57.9%\n"
     ]
    }
   ],
   "source": [
    "combinations = 0\n",
    "wins = 0\n",
    "\n",
    "# Iterate through all combinations and calculate probability of winning\n",
    "for a1 in range(1,7):\n",
    "    for a2 in range(1,7):\n",
    "        for d in range(1,7):\n",
    "            combinations += 1\n",
    "            if max(a1,a2) > d:\n",
    "                wins += 1\n",
    "\n",
    "print(\"Probability of winning {:.1%}\".format(wins/combinations))"
   ]
  },
  {
   "cell_type": "markdown",
   "id": "cd27b9f7",
   "metadata": {},
   "source": [
    "Her a1 is the first dice of the attacker, a2 the second dice of the attacker and d the dice of the defender."
   ]
  },
  {
   "cell_type": "markdown",
   "id": "d946eaf4",
   "metadata": {},
   "source": [
    "# "
   ]
  }
 ],
 "metadata": {
  "kernelspec": {
   "display_name": "Python 3 (ipykernel)",
   "language": "python",
   "name": "python3"
  },
  "language_info": {
   "codemirror_mode": {
    "name": "ipython",
    "version": 3
   },
   "file_extension": ".py",
   "mimetype": "text/x-python",
   "name": "python",
   "nbconvert_exporter": "python",
   "pygments_lexer": "ipython3",
   "version": "3.8.5"
  }
 },
 "nbformat": 4,
 "nbformat_minor": 5
}
