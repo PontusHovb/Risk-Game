{
 "cells": [
  {
   "cell_type": "markdown",
   "id": "52faf760",
   "metadata": {},
   "source": [
    "# Risk game"
   ]
  },
  {
   "cell_type": "markdown",
   "id": "e895e12c",
   "metadata": {},
   "source": [
    "Risk is a board game where the goal is to use your troops to capture territories and eliminate other players. Territories are captured in a battle when an attacker chooses to invade a territory of another player. The battle is simulated with dices roles where the attacker can attack with a maximum of 3 dices and the defender can have a maximum of 2 dices to defend themselves. In a battle the highest rolled dices are matched and the rest are discarded. If the attacker have troops left after an \"attack\" (dice roll) they can choose to attack again until  the territory is captured (defender has no troops left) or the attacker has no more available troops.\n",
    "\n",
    "A single \"attack\" (dice roll) can have a maximum of 3 attackers and 2 defender. Therefore, if either player has more troops to their disposal the rest of the troops can't participate in the \"attack\" but of course be saved to future \"attacks\""
   ]
  },
  {
   "cell_type": "markdown",
   "id": "99b2b3e8",
   "metadata": {},
   "source": [
    "# Attack with $\\le 3$ attackers and $\\le 2$ defenders"
   ]
  },
  {
   "cell_type": "markdown",
   "id": "e3d4af9f",
   "metadata": {},
   "source": [
    "## Casework counting"
   ]
  },
  {
   "cell_type": "markdown",
   "id": "c6565a49",
   "metadata": {},
   "source": [
    "### 1 attacker, 1 defender"
   ]
  },
  {
   "cell_type": "markdown",
   "id": "65173692",
   "metadata": {},
   "source": [
    "With one attacker and one defender the probability of the attacker winning can be explicitly calculated. For a 6-sided equal probability dice there are 36 different combinations of throwing two dices, all with equal probability since the outcome of the two different dices are independent. We can calculate the probability of winning by considering all possible outcomes"
   ]
  },
  {
   "cell_type": "markdown",
   "id": "b3c07d9d",
   "metadata": {},
   "source": [
    "\\begin{matrix}\n",
    "  & 1 & 2 & 3 & 4 & 5 & 6 \\\\\n",
    "1 & L & L & L & L & L & L \\\\\n",
    "2 & W & L & L & L & L & L \\\\\n",
    "3 & W & W & L & L & L & L \\\\\n",
    "4 & W & W & W & L & L & L \\\\\n",
    "5 & W & W & W & W & L & L \\\\\n",
    "6 & W & W & W & W & W & L \\\\\n",
    "\\end{matrix}"
   ]
  },
  {
   "cell_type": "markdown",
   "id": "02cc214f",
   "metadata": {},
   "source": [
    "The vertical axis is the dice rolled by attacker, and horisontal axis that of the defender. _'W'_ denotes the attacker winning and _'L'_ that the attacker looses."
   ]
  },
  {
   "cell_type": "markdown",
   "id": "bf13ea65",
   "metadata": {},
   "source": [
    "$$\n",
    "P(W) = \\frac{\\text{Number of W}}{\\text{Number of combinations}} = \\frac{15}{36} \\approx 41.67\\%\n",
    "$$"
   ]
  },
  {
   "cell_type": "markdown",
   "id": "9376ecdc",
   "metadata": {},
   "source": [
    "## Markov Chain"
   ]
  },
  {
   "cell_type": "code",
   "execution_count": 1,
   "id": "89131b14",
   "metadata": {},
   "outputs": [],
   "source": [
    "from MarkovChain import TransitionMatrix"
   ]
  },
  {
   "cell_type": "markdown",
   "id": "b10f7354",
   "metadata": {},
   "source": [
    "The theoretical probability of winning with more than one defender can be computed using a Markov Chain. The states are unique combinations of a number of attacking and defending troops, denoted as $(a,d)$, where $a$ is number of attacking troops and $d$ number of defending troops."
   ]
  },
  {
   "cell_type": "markdown",
   "id": "3d2fb746",
   "metadata": {},
   "source": [
    "The two states $(1,0)$ and $(0,1)$ (i.e. attacker/defender only have one troop left with the opponent having no troops left) are absorbing states meaning that once entered they have probability $1$ of staying in that state the next step. The transition matrix therefore becomes:"
   ]
  },
  {
   "cell_type": "markdown",
   "id": "6eba5e6a",
   "metadata": {},
   "source": [
    "\\begin{matrix}\n",
    "      & (1,0) & (0,1) \\\\\n",
    "(1,0) & 1     & 0     \\\\\n",
    "(0,1) & 0     & 1     \\\\\n",
    "\\end{matrix}"
   ]
  },
  {
   "cell_type": "markdown",
   "id": "19215d0b",
   "metadata": {},
   "source": [
    "We have also counted the probability of winning with one defender & one attacker (i.e. the state $(1,1)$ to $41.67\\%$ meaning that the transition probability to $(1,0)$ being $0.4167$ and to $(0,1)$ to $1-0.4167 = 0.5833$. So the transition matrix becomes:"
   ]
  },
  {
   "cell_type": "markdown",
   "id": "37e98be2",
   "metadata": {},
   "source": [
    "\\begin{matrix}\n",
    "      & (1,1) & (1,0) & (0,1)   \\\\\n",
    "(1,1) & 0     & 0.4167 & 0.5833 \\\\\n",
    "(1,0) & 0     & 1     & 0       \\\\\n",
    "(0,1) & 0     & 0     & 1       \\\\\n",
    "\\end{matrix}"
   ]
  },
  {
   "cell_type": "markdown",
   "id": "462500cc",
   "metadata": {},
   "source": [
    "Implementing this using the TransitionMatrix-class"
   ]
  },
  {
   "cell_type": "code",
   "execution_count": 2,
   "id": "ec711ea2",
   "metadata": {},
   "outputs": [
    {
     "name": "stdout",
     "output_type": "stream",
     "text": [
      "         [1, 1] [1, 0] [0, 1]\n",
      "        ---------------------\n",
      "[1, 1] | 0.0000 0.4167 0.5833\n",
      "[1, 0] | 0.0000 1.0000 0.0000\n",
      "[0, 1] | 0.0000 0.0000 1.0000\n",
      "\n"
     ]
    }
   ],
   "source": [
    "transition_matrix = TransitionMatrix(3, [[1,1], [1,0], [0,1]])\n",
    "transition_matrix.update_transition_prob([1,1], [1,0], 0.4167)\n",
    "transition_matrix.update_transition_prob([1,1], [0,1], 0.5833)\n",
    "transition_matrix.update_transition_prob([1,0], [1,0], 1)\n",
    "transition_matrix.update_transition_prob([0,1], [0,1], 1)\n",
    "print(transition_matrix)"
   ]
  },
  {
   "cell_type": "markdown",
   "id": "49f62989",
   "metadata": {},
   "source": [
    "### 2 attackers, 1 defender"
   ]
  },
  {
   "cell_type": "markdown",
   "id": "a8456a93",
   "metadata": {},
   "source": [
    "For two attacker and one defender we can still determine the probability by casework counting (list every single possible case). This is a bit more difficult to do by hand since there are $6^3$ different combinations. By iterating through all combinations and count number of wins we can calculate the probability."
   ]
  },
  {
   "cell_type": "code",
   "execution_count": 3,
   "id": "c520f43e",
   "metadata": {},
   "outputs": [
    {
     "name": "stdout",
     "output_type": "stream",
     "text": [
      "Probability of winning 57.87%\n"
     ]
    }
   ],
   "source": [
    "combinations = 0\n",
    "wins = 0\n",
    "\n",
    "# Iterate through all combinations and calculate probability of winning\n",
    "for a1 in range(1,7):\n",
    "    for a2 in range(1,7):\n",
    "        for d in range(1,7):\n",
    "            combinations += 1\n",
    "            if max(a1,a2) > d:\n",
    "                wins += 1\n",
    "\n",
    "print(\"Probability of winning {:.2%}\".format(wins/combinations))"
   ]
  },
  {
   "cell_type": "markdown",
   "id": "805d6800",
   "metadata": {},
   "source": [
    "Here a1 is the first dice of the attacker, a2 the second dice of the attacker and d the dice of the defender."
   ]
  },
  {
   "cell_type": "markdown",
   "id": "9e9a2baf",
   "metadata": {},
   "source": [
    "If the attacker wins, it will transition to the state $(2,0)$ and loosing means attacker will lose one troop (i.e. it will transition to $(1,1)$. Mathematically:\n",
    "- $\\mathbb{P}[(2,1) \\rightarrow (2,0)] = 0.5787$\n",
    "- $\\mathbb{P}[(2,1) \\rightarrow (1,1)] = 1 - 0.5787 = 0.4213$\n",
    "- $\\mathbb{P}[(2,0) \\rightarrow (2,0)] = 1$"
   ]
  },
  {
   "cell_type": "code",
   "execution_count": 4,
   "id": "cc6914c4",
   "metadata": {},
   "outputs": [
    {
     "name": "stdout",
     "output_type": "stream",
     "text": [
      "         [1, 1] [1, 0] [0, 1] [2, 1] [2, 0]\n",
      "        -----------------------------------\n",
      "[1, 1] | 0.0000 0.4167 0.5833 0.0000 0.0000\n",
      "[1, 0] | 0.0000 1.0000 0.0000 0.0000 0.0000\n",
      "[0, 1] | 0.0000 0.0000 1.0000 0.0000 0.0000\n",
      "[2, 1] | 0.4213 0.0000 0.0000 0.0000 0.5787\n",
      "[2, 0] | 0.0000 0.0000 0.0000 0.0000 1.0000\n",
      "\n"
     ]
    }
   ],
   "source": [
    "transition_matrix.add_state([2,1])\n",
    "transition_matrix.add_state([2,0])\n",
    "transition_matrix.update_transition_prob([2,1], [2,0], 0.5787)\n",
    "transition_matrix.update_transition_prob([2,1], [1,1], 0.4213)\n",
    "transition_matrix.update_transition_prob([2,0], [2,0], 1)\n",
    "print(transition_matrix)"
   ]
  },
  {
   "cell_type": "markdown",
   "id": "514f2729",
   "metadata": {},
   "source": [
    "### 3 attackers, 1 defender"
   ]
  },
  {
   "cell_type": "code",
   "execution_count": 5,
   "id": "ae3f22b9",
   "metadata": {},
   "outputs": [
    {
     "name": "stdout",
     "output_type": "stream",
     "text": [
      "Probability of winning 65.97%\n"
     ]
    }
   ],
   "source": [
    "combinations = 0\n",
    "wins = 0\n",
    "\n",
    "# Iterate through all combinations and calculate probability of winning\n",
    "for a1 in range(1,7):\n",
    "    for a2 in range(1,7):\n",
    "        for a3 in range(1,7):\n",
    "            for d in range(1,7):\n",
    "                combinations += 1\n",
    "                if max(a1,a2,a3) > d:\n",
    "                    wins += 1\n",
    "\n",
    "print(\"Probability of winning {:.2%}\".format(wins/combinations))"
   ]
  },
  {
   "cell_type": "markdown",
   "id": "04f58fdf",
   "metadata": {},
   "source": [
    "We now introduce states $(3,1)$ and $(3,0)$, with:\n",
    "- $\\mathbb{P}[(3,1) \\rightarrow (3,0)] = 0.6597$\n",
    "- $\\mathbb{P}[(3,1) \\rightarrow (2,1)] = 1 - 0.6597 = 0.3403$\n",
    "- $\\mathbb{P}[(3,0) \\rightarrow (3,0)] = 1$"
   ]
  },
  {
   "cell_type": "code",
   "execution_count": 6,
   "id": "73e17b0a",
   "metadata": {},
   "outputs": [
    {
     "name": "stdout",
     "output_type": "stream",
     "text": [
      "         [1, 1] [1, 0] [0, 1] [2, 1] [2, 0] [3, 1] [3, 0]\n",
      "        -------------------------------------------------\n",
      "[1, 1] | 0.0000 0.4167 0.5833 0.0000 0.0000 0.0000 0.0000\n",
      "[1, 0] | 0.0000 1.0000 0.0000 0.0000 0.0000 0.0000 0.0000\n",
      "[0, 1] | 0.0000 0.0000 1.0000 0.0000 0.0000 0.0000 0.0000\n",
      "[2, 1] | 0.4213 0.0000 0.0000 0.0000 0.5787 0.0000 0.0000\n",
      "[2, 0] | 0.0000 0.0000 0.0000 0.0000 1.0000 0.0000 0.0000\n",
      "[3, 1] | 0.0000 0.0000 0.0000 0.3403 0.0000 0.0000 0.6597\n",
      "[3, 0] | 0.0000 0.0000 0.0000 0.0000 0.0000 0.0000 1.0000\n",
      "\n"
     ]
    }
   ],
   "source": [
    "transition_matrix.add_state([3,1])\n",
    "transition_matrix.add_state([3,0])\n",
    "transition_matrix.update_transition_prob([3,1], [3,0], 0.6597)\n",
    "transition_matrix.update_transition_prob([3,1], [2,1], 0.3403)\n",
    "transition_matrix.update_transition_prob([3,0], [3,0], 1)\n",
    "print(transition_matrix)"
   ]
  },
  {
   "cell_type": "markdown",
   "id": "abd72789",
   "metadata": {},
   "source": [
    "### 1 attacker, 2 defenders"
   ]
  },
  {
   "cell_type": "code",
   "execution_count": 7,
   "id": "a4b5c9f1",
   "metadata": {},
   "outputs": [
    {
     "name": "stdout",
     "output_type": "stream",
     "text": [
      "Probability of defender loosing one troop 25.46%\n",
      "Probability of attacker loosing one troop 74.54%\n"
     ]
    }
   ],
   "source": [
    "combinations = 0\n",
    "attacker_one_lost = 0\n",
    "defender_one_lost = 0\n",
    "\n",
    "# Iterate through all combinations and calculate probability of winning\n",
    "for a1 in range(1,7):\n",
    "    for d1 in range(1,7):\n",
    "        for d2 in range(1,7):\n",
    "            combinations += 1\n",
    "            if a1 > max(d1, d2):\n",
    "                defender_one_lost += 1\n",
    "            else:\n",
    "                attacker_one_lost += 1\n",
    "\n",
    "print(\"Probability of defender loosing one troop {:.2%}\".format(defender_one_lost/combinations))\n",
    "print(\"Probability of attacker loosing one troop {:.2%}\".format(attacker_one_lost/combinations))\n",
    "\n",
    "transition_matrix.add_state([1,2])\n",
    "transition_matrix.add_state([0,2])\n",
    "transition_matrix.update_transition_prob([1,2], [1,1], round(defender_one_lost/combinations, 4))\n",
    "transition_matrix.update_transition_prob([1,2], [0,2], round(attacker_one_lost/combinations, 4))\n",
    "transition_matrix.update_transition_prob([0,2], [0,2], 1)"
   ]
  },
  {
   "cell_type": "markdown",
   "id": "36be61e4",
   "metadata": {},
   "source": [
    "### 2 attackers, 2 defenders"
   ]
  },
  {
   "cell_type": "code",
   "execution_count": 8,
   "id": "feacce80",
   "metadata": {},
   "outputs": [
    {
     "name": "stdout",
     "output_type": "stream",
     "text": [
      "Probability of attacker loosing two troops 44.83%\n",
      "Probability of defender loosing two troops 22.76%\n",
      "Probability of both loosing one troop 32.41%\n"
     ]
    }
   ],
   "source": [
    "combinations = 0\n",
    "attacker_two_lost = 0\n",
    "defender_two_lost = 0\n",
    "both_one_lost = 0\n",
    "\n",
    "# Iterate through all combinations and calculate probability of winning\n",
    "for a1 in range(1,7):\n",
    "    for a2 in range(1,7):\n",
    "        for d1 in range(1,7):\n",
    "            for d2 in range(1,7):\n",
    "                combinations += 1\n",
    "                \n",
    "                if sorted([a1,a2])[-1] > sorted([d1,d2])[-1]:\n",
    "                    if sorted([a1,a2])[-2] > sorted([d1,d2])[-2]:\n",
    "                        defender_two_lost += 1\n",
    "                    else:\n",
    "                        both_one_lost += 1\n",
    "                else:\n",
    "                    if sorted([a1,a2])[-2] > sorted([d1,d2])[-2]:\n",
    "                        both_one_lost += 1\n",
    "                    else:\n",
    "                        attacker_two_lost += 1\n",
    "\n",
    "print(\"Probability of attacker loosing two troops {:.2%}\".format(attacker_two_lost/combinations))\n",
    "print(\"Probability of defender loosing two troops {:.2%}\".format(defender_two_lost/combinations))\n",
    "print(\"Probability of both loosing one troop {:.2%}\".format(both_one_lost/combinations))\n",
    "\n",
    "transition_matrix.add_state([2,2])\n",
    "transition_matrix.update_transition_prob([2,2], [1,1], round(attacker_two_lost/combinations, 4))\n",
    "transition_matrix.update_transition_prob([2,2], [0,2], round(defender_two_lost/combinations, 4))\n",
    "transition_matrix.update_transition_prob([2,2], [0,2], round(both_one_lost/combinations, 4))"
   ]
  },
  {
   "cell_type": "markdown",
   "id": "a203b04b",
   "metadata": {},
   "source": [
    "Or equivalently:\n",
    "- $\\mathbb{P}[(2,2) \\rightarrow (0,2)] = 0.4483$\n",
    "- $\\mathbb{P}[(2,2) \\rightarrow (2,0)] = 0.2276$\n",
    "- $\\mathbb{P}[(2,2) \\rightarrow (1,1)] = 0.3241$"
   ]
  },
  {
   "cell_type": "markdown",
   "id": "6b437f9b",
   "metadata": {},
   "source": [
    "### 3 attackers, 2 defenders"
   ]
  },
  {
   "cell_type": "code",
   "execution_count": 9,
   "id": "d5cd0f60",
   "metadata": {},
   "outputs": [
    {
     "name": "stdout",
     "output_type": "stream",
     "text": [
      "Probability of attacker loosing two troops 29.26%\n",
      "Probability of defender loosing two troops 37.17%\n",
      "Probability of both loosing one troop 33.58%\n"
     ]
    }
   ],
   "source": [
    "combinations = 0\n",
    "attacker_two_lost = 0\n",
    "defender_two_lost = 0\n",
    "both_one_lost = 0\n",
    "\n",
    "# Iterate through all combinations and calculate probability of winning\n",
    "for a1 in range(1,7):\n",
    "    for a2 in range(1,7):\n",
    "        for a3 in range(1,7):\n",
    "            for d1 in range(1,7):\n",
    "                for d2 in range(1,7):\n",
    "                    combinations += 1\n",
    "\n",
    "                    if sorted([a1,a2,a3])[-1] > sorted([d1,d2])[-1]:\n",
    "                        if sorted([a1,a2,a3])[-2] > sorted([d1,d2])[-2]:\n",
    "                            defender_two_lost += 1\n",
    "                        else:\n",
    "                            both_one_lost += 1\n",
    "                    else:\n",
    "                        if sorted([a1,a2,a3])[-2] > sorted([d1,d2])[-2]:\n",
    "                            both_one_lost += 1\n",
    "                        else:\n",
    "                            attacker_two_lost += 1\n",
    "\n",
    "print(\"Probability of attacker loosing two troops {:.2%}\".format(attacker_two_lost/combinations))\n",
    "print(\"Probability of defender loosing two troops {:.2%}\".format(defender_two_lost/combinations))\n",
    "print(\"Probability of both loosing one troop {:.2%}\".format(both_one_lost/combinations))\n",
    "\n",
    "transition_matrix.add_state([3,2])\n",
    "transition_matrix.update_transition_prob([3,2], [1,2], round(attacker_two_lost/combinations, 4))\n",
    "transition_matrix.update_transition_prob([3,2], [3,1], round(defender_two_lost/combinations, 4))\n",
    "transition_matrix.update_transition_prob([3,2], [2,1], round(both_one_lost/combinations, 4))"
   ]
  },
  {
   "cell_type": "markdown",
   "id": "426946a8",
   "metadata": {},
   "source": [
    "The transition matrix for all attacks with $\\le 3$ attackers and $\\le 2$ defenders is therefore:"
   ]
  },
  {
   "cell_type": "code",
   "execution_count": 10,
   "id": "32fbdc44",
   "metadata": {},
   "outputs": [
    {
     "name": "stdout",
     "output_type": "stream",
     "text": [
      "         [1, 1] [1, 0] [0, 1] [2, 1] [2, 0] [3, 1] [3, 0] [1, 2] [0, 2] [2, 2] [3, 2]\n",
      "        -----------------------------------------------------------------------------\n",
      "[1, 1] | 0.0000 0.4167 0.5833 0.0000 0.0000 0.0000 0.0000 0.0000 0.0000 0.0000 0.0000\n",
      "[1, 0] | 0.0000 1.0000 0.0000 0.0000 0.0000 0.0000 0.0000 0.0000 0.0000 0.0000 0.0000\n",
      "[0, 1] | 0.0000 0.0000 1.0000 0.0000 0.0000 0.0000 0.0000 0.0000 0.0000 0.0000 0.0000\n",
      "[2, 1] | 0.4213 0.0000 0.0000 0.0000 0.5787 0.0000 0.0000 0.0000 0.0000 0.0000 0.0000\n",
      "[2, 0] | 0.0000 0.0000 0.0000 0.0000 1.0000 0.0000 0.0000 0.0000 0.0000 0.0000 0.0000\n",
      "[3, 1] | 0.0000 0.0000 0.0000 0.3403 0.0000 0.0000 0.6597 0.0000 0.0000 0.0000 0.0000\n",
      "[3, 0] | 0.0000 0.0000 0.0000 0.0000 0.0000 0.0000 1.0000 0.0000 0.0000 0.0000 0.0000\n",
      "[1, 2] | 0.2546 0.0000 0.0000 0.0000 0.0000 0.0000 0.0000 0.0000 0.7454 0.0000 0.0000\n",
      "[0, 2] | 0.0000 0.0000 0.0000 0.0000 0.0000 0.0000 0.0000 0.0000 1.0000 0.0000 0.0000\n",
      "[2, 2] | 0.4483 0.0000 0.0000 0.0000 0.0000 0.0000 0.0000 0.0000 0.3241 0.0000 0.0000\n",
      "[3, 2] | 0.0000 0.0000 0.0000 0.3358 0.0000 0.3717 0.0000 0.2926 0.0000 0.0000 0.0000\n",
      "\n"
     ]
    }
   ],
   "source": [
    "print(transition_matrix)"
   ]
  },
  {
   "cell_type": "markdown",
   "id": "a9a9a9dd",
   "metadata": {},
   "source": [
    "# Attack with $>3$ attackers and/or $>2$ defenders"
   ]
  },
  {
   "cell_type": "markdown",
   "id": "987cd3c6",
   "metadata": {},
   "source": [
    "Since a player can't deploy more than 3 attackers or 2 defender, if either player has more troops they are restricted to one of the attacks above. We consider all cases where this can happen and what the corresponding attack would be (using the $(a,d)$-notation where $a$ is the number of attackers and $d$ the number of defenders:\n",
    "- $(>3, >2) \\Rightarrow (3, 2)$\n",
    "- $(>3, 1) \\Rightarrow (3, 1)$\n",
    "- $(>3, 0) \\Rightarrow (3, 0)$\n",
    "- $(2, >2) \\Rightarrow (2, 2)$\n",
    "- $(1, >2) \\Rightarrow (1, 2)$\n",
    "- $(0, >2) \\Rightarrow (0, 2)$"
   ]
  },
  {
   "cell_type": "markdown",
   "id": "2a606572",
   "metadata": {},
   "source": [
    "Using this we can calculate the transition matrix for all combination of troops up until 10 attackers and 10 defenders."
   ]
  },
  {
   "cell_type": "code",
   "execution_count": 11,
   "id": "8b404d35",
   "metadata": {},
   "outputs": [],
   "source": [
    "for a in range(11):\n",
    "    for d in range(11):\n",
    "        # Copy probabilities from corresponding attacks\n",
    "        if a > 3 or d > 2:\n",
    "            transition_matrix.add_state([a, d])\n",
    "            transition_matrix.copy_transition_prob([a, d], [min(a, 3), min(d, 2)])"
   ]
  },
  {
   "cell_type": "markdown",
   "id": "c43471f7",
   "metadata": {},
   "source": [
    "With this we can calculate the "
   ]
  },
  {
   "cell_type": "code",
   "execution_count": 13,
   "id": "b5fa9ae5",
   "metadata": {},
   "outputs": [
    {
     "name": "stdout",
     "output_type": "stream",
     "text": [
      "Probability of winning is 62.49%\n"
     ]
    },
    {
     "data": {
      "text/plain": [
       "{'[1, 0]': 0.1122,\n",
       " '[0, 1]': 0.1571,\n",
       " '[2, 0]': 0.2675,\n",
       " '[3, 0]': 0.2452,\n",
       " '[0, 2]': 0.2181}"
      ]
     },
     "execution_count": 13,
     "metadata": {},
     "output_type": "execute_result"
    }
   ],
   "source": [
    "start_state = [10, 10]\n",
    "prob_winning, end_states = transition_matrix.find_stationary_distribution(start_state)\n",
    "print(f\"Probability of winning is {prob_winning*100}%\")\n",
    "end_states"
   ]
  }
 ],
 "metadata": {
  "kernelspec": {
   "display_name": "Python 3 (ipykernel)",
   "language": "python",
   "name": "python3"
  },
  "language_info": {
   "codemirror_mode": {
    "name": "ipython",
    "version": 3
   },
   "file_extension": ".py",
   "mimetype": "text/x-python",
   "name": "python",
   "nbconvert_exporter": "python",
   "pygments_lexer": "ipython3",
   "version": "3.8.5"
  }
 },
 "nbformat": 4,
 "nbformat_minor": 5
}
