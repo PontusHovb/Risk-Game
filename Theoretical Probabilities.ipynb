{
 "cells": [
  {
   "cell_type": "markdown",
   "id": "52faf760",
   "metadata": {},
   "source": [
    "# Risk game"
   ]
  },
  {
   "cell_type": "markdown",
   "id": "e895e12c",
   "metadata": {},
   "source": [
    "Risk is a board game where the goal is to use your troops to capture territories and eliminate other players. Territories are captured in a battle when an attacker chooses to invade a territory of another player. The battle is simulated with dices roles where the attacker can attack with a maximum of 3 dices and the defender can have a maximum of 2 dices to defend themselves. In a battle the highest rolled dices are matched and the rest are discarded. If the attacker have troops left after an \"attack\" (dice roll) they can choose to attack again until  the territory is captured (defender has no troops left) or the attacker has no more available troops."
   ]
  },
  {
   "cell_type": "markdown",
   "id": "e3d4af9f",
   "metadata": {},
   "source": [
    "### One defender"
   ]
  },
  {
   "cell_type": "markdown",
   "id": "c6565a49",
   "metadata": {},
   "source": [
    "#### 1 attacker, 1 defender"
   ]
  },
  {
   "cell_type": "markdown",
   "id": "65173692",
   "metadata": {},
   "source": [
    "With one attacker and one defender the probability of the attacker winning can be explicitly calculated. For a 6-sided equal probability dice there are 36 different combinations of throwing two dices, all with equal probability since the outcome of the two different dices are independent. We can calculate the probability of winning by considering all possible outcomes"
   ]
  },
  {
   "cell_type": "markdown",
   "id": "b3c07d9d",
   "metadata": {},
   "source": [
    "\\begin{matrix}\n",
    "  & 1 & 2 & 3 & 4 & 5 & 6 \\\\\n",
    "1 & L & L & L & L & L & L \\\\\n",
    "2 & W & L & L & L & L & L \\\\\n",
    "3 & W & W & L & L & L & L \\\\\n",
    "4 & W & W & W & L & L & L \\\\\n",
    "5 & W & W & W & W & L & L \\\\\n",
    "6 & W & W & W & W & W & L \\\\\n",
    "\\end{matrix}"
   ]
  },
  {
   "cell_type": "markdown",
   "id": "02cc214f",
   "metadata": {},
   "source": [
    "The vertical axis is the dice rolled by attacker, and horisontal axis that of the defender. 'W' denotes the attacker winning and 'L' that the attacker looses."
   ]
  },
  {
   "cell_type": "markdown",
   "id": "bf13ea65",
   "metadata": {},
   "source": [
    "$$\n",
    "P(W) = \\frac{\\text{Number of W}}{\\text{Number of combinations}} = \\frac{15}{36} \\approx 41.7\\%\n",
    "$$"
   ]
  },
  {
   "cell_type": "markdown",
   "id": "49f62989",
   "metadata": {},
   "source": [
    "#### 2 attacker, 1 defender"
   ]
  },
  {
   "cell_type": "markdown",
   "id": "a8456a93",
   "metadata": {},
   "source": [
    "For two attacker and one defender we can still determine the probability by casework counting (list every single possible case). This is a bit more difficult to do by hand since there are $6^3$ different combinations. By iteratnig through all combinations and count number of wins we can calculate the probability."
   ]
  },
  {
   "cell_type": "code",
   "execution_count": 3,
   "id": "c520f43e",
   "metadata": {},
   "outputs": [
    {
     "name": "stdout",
     "output_type": "stream",
     "text": [
      "Probability of winning 57.87%\n"
     ]
    }
   ],
   "source": [
    "combinations = 0\n",
    "wins = 0\n",
    "\n",
    "# Iterate through all combinations and calculate probability of winning\n",
    "for a1 in range(1,7):\n",
    "    for a2 in range(1,7):\n",
    "        for d in range(1,7):\n",
    "            combinations += 1\n",
    "            if max(a1,a2) > d:\n",
    "                wins += 1\n",
    "\n",
    "print(\"Probability of winning {:.2%}\".format(wins/combinations))"
   ]
  },
  {
   "cell_type": "markdown",
   "id": "805d6800",
   "metadata": {},
   "source": [
    "Her a1 is the first dice of the attacker, a2 the second dice of the attacker and d the dice of the defender."
   ]
  },
  {
   "cell_type": "markdown",
   "id": "514f2729",
   "metadata": {},
   "source": [
    "#### 3 attacker, 1 defender"
   ]
  },
  {
   "cell_type": "code",
   "execution_count": 2,
   "id": "ae3f22b9",
   "metadata": {},
   "outputs": [
    {
     "name": "stdout",
     "output_type": "stream",
     "text": [
      "Probability of winning 66.0%\n"
     ]
    }
   ],
   "source": [
    "combinations = 0\n",
    "wins = 0\n",
    "\n",
    "# Iterate through all combinations and calculate probability of winning\n",
    "for a1 in range(1,7):\n",
    "    for a2 in range(1,7):\n",
    "        for a3 in range(1,7):\n",
    "            for d in range(1,7):\n",
    "                combinations += 1\n",
    "                if max(a1,a2,a3) > d:\n",
    "                    wins += 1\n",
    "\n",
    "print(\"Probability of winning {:.2%}\".format(wins/combinations))"
   ]
  },
  {
   "cell_type": "markdown",
   "id": "f6a7e683",
   "metadata": {},
   "source": [
    "### Two defenders"
   ]
  },
  {
   "cell_type": "markdown",
   "id": "abd72789",
   "metadata": {},
   "source": [
    "#### 1 attacker, 2 defender"
   ]
  },
  {
   "cell_type": "code",
   "execution_count": 4,
   "id": "a4b5c9f1",
   "metadata": {},
   "outputs": [
    {
     "name": "stdout",
     "output_type": "stream",
     "text": [
      "Probability of attacker loosing one troop 74.5%\n",
      "Probability of defender loosing one troop 25.5%\n"
     ]
    }
   ],
   "source": [
    "combinations = 0\n",
    "attacker_one_lost = 0\n",
    "defender_one_lost = 0\n",
    "\n",
    "# Iterate through all combinations and calculate probability of winning\n",
    "for a1 in range(1,7):\n",
    "    for d1 in range(1,7):\n",
    "        for d2 in range(1,7):\n",
    "            combinations += 1\n",
    "            if a1 > max(d1, d2):\n",
    "                defender_one_lost += 1\n",
    "            else:\n",
    "                attacker_one_lost += 1\n",
    "\n",
    "print(\"Probability of attacker loosing one troop {:.2%}\".format(attacker_one_lost/combinations))\n",
    "print(\"Probability of defender loosing one troop {:.2%}\".format(defender_one_lost/combinations))"
   ]
  },
  {
   "cell_type": "markdown",
   "id": "36be61e4",
   "metadata": {},
   "source": [
    "#### 2 attacker, 2 defender"
   ]
  },
  {
   "cell_type": "code",
   "execution_count": 5,
   "id": "feacce80",
   "metadata": {},
   "outputs": [
    {
     "name": "stdout",
     "output_type": "stream",
     "text": [
      "Probability of attacker loosing two troops 44.8%\n",
      "Probability of defender loosing two troops 22.8%\n",
      "Probability of both loosing one troop 32.4%\n"
     ]
    }
   ],
   "source": [
    "combinations = 0\n",
    "attacker_two_lost = 0\n",
    "defender_two_lost = 0\n",
    "both_one_lost = 0\n",
    "\n",
    "# Iterate through all combinations and calculate probability of winning\n",
    "for a1 in range(1,7):\n",
    "    for a2 in range(1,7):\n",
    "        for d1 in range(1,7):\n",
    "            for d2 in range(1,7):\n",
    "                combinations += 1\n",
    "                \n",
    "                if sorted([a1,a2])[-1] > sorted([d1,d2])[-1]:\n",
    "                    if sorted([a1,a2])[-2] > sorted([d1,d2])[-2]:\n",
    "                        defender_two_lost += 1\n",
    "                    else:\n",
    "                        both_one_lost += 1\n",
    "                else:\n",
    "                    if sorted([a1,a2])[-2] > sorted([d1,d2])[-2]:\n",
    "                        both_one_lost += 1\n",
    "                    else:\n",
    "                        attacker_two_lost += 1\n",
    "\n",
    "print(\"Probability of attacker loosing two troops {:.2%}\".format(attacker_two_lost/combinations))\n",
    "print(\"Probability of defender loosing two troops {:.2%}\".format(defender_two_lost/combinations))\n",
    "print(\"Probability of both loosing one troop {:.2%}\".format(both_one_lost/combinations))"
   ]
  },
  {
   "cell_type": "markdown",
   "id": "6b437f9b",
   "metadata": {},
   "source": [
    "#### 3 attacker, 2 defender"
   ]
  },
  {
   "cell_type": "code",
   "execution_count": 9,
   "id": "d5cd0f60",
   "metadata": {},
   "outputs": [
    {
     "name": "stdout",
     "output_type": "stream",
     "text": [
      "Probability of attacker loosing two troops 29.3%\n",
      "Probability of defender loosing two troops 37.2%\n",
      "Probability of both loosing one troop 33.6%\n"
     ]
    }
   ],
   "source": [
    "combinations = 0\n",
    "attacker_two_lost = 0\n",
    "defender_two_lost = 0\n",
    "both_one_lost = 0\n",
    "\n",
    "# Iterate through all combinations and calculate probability of winning\n",
    "for a1 in range(1,7):\n",
    "    for a2 in range(1,7):\n",
    "        for a3 in range(1,7):\n",
    "            for d1 in range(1,7):\n",
    "                for d2 in range(1,7):\n",
    "                    combinations += 1\n",
    "\n",
    "                    if sorted([a1,a2,a3])[-1] > sorted([d1,d2])[-1]:\n",
    "                        if sorted([a1,a2,a3])[-2] > sorted([d1,d2])[-2]:\n",
    "                            defender_two_lost += 1\n",
    "                        else:\n",
    "                            both_one_lost += 1\n",
    "                    else:\n",
    "                        if sorted([a1,a2,a3])[-2] > sorted([d1,d2])[-2]:\n",
    "                            both_one_lost += 1\n",
    "                        else:\n",
    "                            attacker_two_lost += 1\n",
    "\n",
    "print(\"Probability of attacker loosing two troops {:.2%}\".format(attacker_two_lost/combinations))\n",
    "print(\"Probability of defender loosing two troops {:.2%}\".format(defender_two_lost/combinations))\n",
    "print(\"Probability of both loosing one troop {:.2%}\".format(both_one_lost/combinations))"
   ]
  }
 ],
 "metadata": {
  "kernelspec": {
   "display_name": "Python 3 (ipykernel)",
   "language": "python",
   "name": "python3"
  },
  "language_info": {
   "codemirror_mode": {
    "name": "ipython",
    "version": 3
   },
   "file_extension": ".py",
   "mimetype": "text/x-python",
   "name": "python",
   "nbconvert_exporter": "python",
   "pygments_lexer": "ipython3",
   "version": "3.8.5"
  }
 },
 "nbformat": 4,
 "nbformat_minor": 5
}
